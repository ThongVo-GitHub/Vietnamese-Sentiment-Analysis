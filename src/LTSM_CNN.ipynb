{
  "cells": [
    {
      "cell_type": "code",
      "execution_count": 14,
      "metadata": {
        "id": "5TQellqolOdp"
      },
      "outputs": [],
      "source": [
        "!pip install underthesea tensorflow scikit-learn pandas -q"
      ]
    },
    {
      "cell_type": "code",
      "execution_count": 15,
      "metadata": {
        "id": "wOmSR5uIDmZh"
      },
      "outputs": [],
      "source": [
        "import pandas as pd\n",
        "import numpy as np\n",
        "from underthesea import word_tokenize\n",
        "from sklearn.model_selection import train_test_split\n",
        "from sklearn.metrics import classification_report, accuracy_score\n",
        "from tensorflow.keras.preprocessing.text import Tokenizer\n",
        "from tensorflow.keras.preprocessing.sequence import pad_sequences\n",
        "from tensorflow.keras.models import Sequential, load_model\n",
        "from tensorflow.keras.layers import Embedding, Conv1D, MaxPooling1D, LSTM, Dense, Dropout, Bidirectional\n",
        "from tensorflow.keras.utils import to_categorical\n",
        "import pickle\n",
        "import warnings"
      ]
    },
    {
      "cell_type": "code",
      "execution_count": 16,
      "metadata": {
        "id": "3jMtWzWADqt1"
      },
      "outputs": [],
      "source": [
        "VOCAB_SIZE = 15000      # Giới hạn số lượng từ trong từ điển\n",
        "MAX_LENGTH = 150        # Độ dài tối đa của một câu (sau khi padding)\n",
        "EMBEDDING_DIM = 128     # Số chiều của vector biểu diễn từ\n",
        "NUM_EPOCHS = 10         # Số lần lặp qua toàn bộ dữ liệu\n",
        "BATCH_SIZE = 32         # Số mẫu dữ liệu cho mỗi lần cập nhật trọng số"
      ]
    },
    {
      "cell_type": "code",
      "execution_count": 17,
      "metadata": {
        "colab": {
          "base_uri": "https://localhost:8080/"
        },
        "id": "b34yV9iqEb4t",
        "outputId": "b92fcb38-c512-4437-f2bc-2e5bc8f4591a"
      },
      "outputs": [
        {
          "name": "stdout",
          "output_type": "stream",
          "text": [
            "Drive already mounted at /content/drive; to attempt to forcibly remount, call drive.mount(\"/content/drive\", force_remount=True).\n"
          ]
        }
      ],
      "source": [
        "from google.colab import drive\n",
        "drive.mount('/content/drive')"
      ]
    },
    {
      "cell_type": "code",
      "execution_count": 19,
      "metadata": {
        "colab": {
          "base_uri": "https://localhost:8080/"
        },
        "id": "J6iRhAYRDtdf",
        "outputId": "af2113b1-a1db-4625-9605-ce8269a8b255"
      },
      "outputs": [
        {
          "name": "stdout",
          "output_type": "stream",
          "text": [
            "--- [CNN-LSTM] Bắt đầu tải và chuẩn bị dữ liệu ---\n",
            "                                                text label_text  label\n",
            "0  cốt chuyện bình thường mạch phim dài lê thể ch...   Tiêu cực      0\n",
            "1  phim rất hay từ đầu đến cuối lôi cuốn và hấp d...   Tích cực      2\n",
            "2            toàn nói chuyện không có cảnh đánh nhau  Trung lập      1\n",
            "3  phim hay về nội dung lẫn về cảnh quay nhưng kh...   Tích cực      2\n",
            "4  phim hay có nhiều tình tiết hấp dẫn có một vài...   Tích cực      2\n"
          ]
        }
      ],
      "source": [
        "# ===================================================================\n",
        "# BƯỚC 1: TẢI VÀ CHUẨN BỊ DỮ LIỆU\n",
        "# ===================================================================\n",
        "print(\"--- [CNN-LSTM] Bắt đầu tải và chuẩn bị dữ liệu ---\")\n",
        "\n",
        "# Đọc file CSV\n",
        "df = pd.read_csv('/content/drive/MyDrive/AI/Model/momo_review_clean_balanced.csv')\n",
        "\n",
        "# Giữ lại cột nội dung và nhãn\n",
        "df = df[['Noi_dung_sach_giu_dau', 'Nhãn']].dropna().reset_index(drop=True)\n",
        "\n",
        "# Đổi tên cột cho dễ dùng\n",
        "df.rename(columns={'Noi_dung_sach_giu_dau': 'text', 'Nhãn': 'label_text'}, inplace=True)\n",
        "\n",
        "# Ánh xạ nhãn sang số\n",
        "label_map = {\"Tiêu cực\": 0, \"Trung lập\": 1, \"Tích cực\": 2}\n",
        "id_to_label = {v: k for k, v in label_map.items()}\n",
        "df['label'] = df['label_text'].map(label_map)\n",
        "\n",
        "print(df.head())\n"
      ]
    },
    {
      "cell_type": "code",
      "execution_count": 20,
      "metadata": {
        "colab": {
          "base_uri": "https://localhost:8080/"
        },
        "id": "i99AbT6sDxTu",
        "outputId": "9b535c5f-6149-4aef-db0e-a5a032a75fd3"
      },
      "outputs": [
        {
          "name": "stdout",
          "output_type": "stream",
          "text": [
            "--- [CNN-LSTM] Chia dữ liệu và tiền xử lý ---\n",
            "Hoàn thành.\n",
            "------------------------------\n"
          ]
        }
      ],
      "source": [
        "# ===================================================================\n",
        "# BƯỚC 2: CHIA DỮ LIỆU VÀ TIỀN XỬ LÝ CHO DEEP LEARNING\n",
        "# ===================================================================\n",
        "print(\"--- [CNN-LSTM] Chia dữ liệu và tiền xử lý ---\")\n",
        "X = df['text'] # Dùng cột 'text' chưa tách từ để Tokenizer của Keras tự xử lý\n",
        "y = df['label']\n",
        "X_train, X_test, y_train, y_test = train_test_split(X, y, test_size=0.2, random_state=42, stratify=y)\n",
        "\n",
        "# Tokenizer: Xây dựng từ điển và chuyển văn bản thành chuỗi số nguyên\n",
        "tokenizer = Tokenizer(num_words=VOCAB_SIZE, oov_token='<OOV>')\n",
        "tokenizer.fit_on_texts(X_train)\n",
        "X_train_seq = tokenizer.texts_to_sequences(X_train)\n",
        "X_test_seq = tokenizer.texts_to_sequences(X_test)\n",
        "\n",
        "# Padding: Đảm bảo các chuỗi có cùng độ dài\n",
        "X_train_pad = pad_sequences(X_train_seq, maxlen=MAX_LENGTH, padding='post', truncating='post')\n",
        "X_test_pad = pad_sequences(X_test_seq, maxlen=MAX_LENGTH, padding='post', truncating='post')\n",
        "\n",
        "# One-hot encoding cho nhãn\n",
        "y_train_cat = to_categorical(y_train, num_classes=3)\n",
        "y_test_cat = to_categorical(y_test, num_classes=3)\n",
        "print(\"Hoàn thành.\")\n",
        "print(\"-\" * 30)"
      ]
    },
    {
      "cell_type": "code",
      "execution_count": 21,
      "metadata": {
        "colab": {
          "base_uri": "https://localhost:8080/",
          "height": 468
        },
        "id": "ATfIDFoVD0dp",
        "outputId": "b1573f63-877e-4727-87e1-f8450ab78aeb"
      },
      "outputs": [
        {
          "name": "stdout",
          "output_type": "stream",
          "text": [
            "--- [CNN-LSTM] Xây dựng kiến trúc mô hình ---\n"
          ]
        },
        {
          "name": "stderr",
          "output_type": "stream",
          "text": [
            "/usr/local/lib/python3.11/dist-packages/keras/src/layers/core/embedding.py:97: UserWarning: Argument `input_length` is deprecated. Just remove it.\n",
            "  warnings.warn(\n"
          ]
        },
        {
          "data": {
            "text/html": [
              "<pre style=\"white-space:pre;overflow-x:auto;line-height:normal;font-family:Menlo,'DejaVu Sans Mono',consolas,'Courier New',monospace\"><span style=\"font-weight: bold\">Model: \"sequential\"</span>\n",
              "</pre>\n"
            ],
            "text/plain": [
              "\u001b[1mModel: \"sequential\"\u001b[0m\n"
            ]
          },
          "metadata": {},
          "output_type": "display_data"
        },
        {
          "data": {
            "text/html": [
              "<pre style=\"white-space:pre;overflow-x:auto;line-height:normal;font-family:Menlo,'DejaVu Sans Mono',consolas,'Courier New',monospace\">┏━━━━━━━━━━━━━━━━━━━━━━━━━━━━━━━━━┳━━━━━━━━━━━━━━━━━━━━━━━━┳━━━━━━━━━━━━━━━┓\n",
              "┃<span style=\"font-weight: bold\"> Layer (type)                    </span>┃<span style=\"font-weight: bold\"> Output Shape           </span>┃<span style=\"font-weight: bold\">       Param # </span>┃\n",
              "┡━━━━━━━━━━━━━━━━━━━━━━━━━━━━━━━━━╇━━━━━━━━━━━━━━━━━━━━━━━━╇━━━━━━━━━━━━━━━┩\n",
              "│ embedding (<span style=\"color: #0087ff; text-decoration-color: #0087ff\">Embedding</span>)           │ ?                      │   <span style=\"color: #00af00; text-decoration-color: #00af00\">0</span> (unbuilt) │\n",
              "├─────────────────────────────────┼────────────────────────┼───────────────┤\n",
              "│ dropout (<span style=\"color: #0087ff; text-decoration-color: #0087ff\">Dropout</span>)               │ ?                      │             <span style=\"color: #00af00; text-decoration-color: #00af00\">0</span> │\n",
              "├─────────────────────────────────┼────────────────────────┼───────────────┤\n",
              "│ conv1d (<span style=\"color: #0087ff; text-decoration-color: #0087ff\">Conv1D</span>)                 │ ?                      │   <span style=\"color: #00af00; text-decoration-color: #00af00\">0</span> (unbuilt) │\n",
              "├─────────────────────────────────┼────────────────────────┼───────────────┤\n",
              "│ max_pooling1d (<span style=\"color: #0087ff; text-decoration-color: #0087ff\">MaxPooling1D</span>)    │ ?                      │             <span style=\"color: #00af00; text-decoration-color: #00af00\">0</span> │\n",
              "├─────────────────────────────────┼────────────────────────┼───────────────┤\n",
              "│ bidirectional (<span style=\"color: #0087ff; text-decoration-color: #0087ff\">Bidirectional</span>)   │ ?                      │   <span style=\"color: #00af00; text-decoration-color: #00af00\">0</span> (unbuilt) │\n",
              "├─────────────────────────────────┼────────────────────────┼───────────────┤\n",
              "│ dense (<span style=\"color: #0087ff; text-decoration-color: #0087ff\">Dense</span>)                   │ ?                      │   <span style=\"color: #00af00; text-decoration-color: #00af00\">0</span> (unbuilt) │\n",
              "├─────────────────────────────────┼────────────────────────┼───────────────┤\n",
              "│ dropout_1 (<span style=\"color: #0087ff; text-decoration-color: #0087ff\">Dropout</span>)             │ ?                      │             <span style=\"color: #00af00; text-decoration-color: #00af00\">0</span> │\n",
              "├─────────────────────────────────┼────────────────────────┼───────────────┤\n",
              "│ dense_1 (<span style=\"color: #0087ff; text-decoration-color: #0087ff\">Dense</span>)                 │ ?                      │   <span style=\"color: #00af00; text-decoration-color: #00af00\">0</span> (unbuilt) │\n",
              "└─────────────────────────────────┴────────────────────────┴───────────────┘\n",
              "</pre>\n"
            ],
            "text/plain": [
              "┏━━━━━━━━━━━━━━━━━━━━━━━━━━━━━━━━━┳━━━━━━━━━━━━━━━━━━━━━━━━┳━━━━━━━━━━━━━━━┓\n",
              "┃\u001b[1m \u001b[0m\u001b[1mLayer (type)                   \u001b[0m\u001b[1m \u001b[0m┃\u001b[1m \u001b[0m\u001b[1mOutput Shape          \u001b[0m\u001b[1m \u001b[0m┃\u001b[1m \u001b[0m\u001b[1m      Param #\u001b[0m\u001b[1m \u001b[0m┃\n",
              "┡━━━━━━━━━━━━━━━━━━━━━━━━━━━━━━━━━╇━━━━━━━━━━━━━━━━━━━━━━━━╇━━━━━━━━━━━━━━━┩\n",
              "│ embedding (\u001b[38;5;33mEmbedding\u001b[0m)           │ ?                      │   \u001b[38;5;34m0\u001b[0m (unbuilt) │\n",
              "├─────────────────────────────────┼────────────────────────┼───────────────┤\n",
              "│ dropout (\u001b[38;5;33mDropout\u001b[0m)               │ ?                      │             \u001b[38;5;34m0\u001b[0m │\n",
              "├─────────────────────────────────┼────────────────────────┼───────────────┤\n",
              "│ conv1d (\u001b[38;5;33mConv1D\u001b[0m)                 │ ?                      │   \u001b[38;5;34m0\u001b[0m (unbuilt) │\n",
              "├─────────────────────────────────┼────────────────────────┼───────────────┤\n",
              "│ max_pooling1d (\u001b[38;5;33mMaxPooling1D\u001b[0m)    │ ?                      │             \u001b[38;5;34m0\u001b[0m │\n",
              "├─────────────────────────────────┼────────────────────────┼───────────────┤\n",
              "│ bidirectional (\u001b[38;5;33mBidirectional\u001b[0m)   │ ?                      │   \u001b[38;5;34m0\u001b[0m (unbuilt) │\n",
              "├─────────────────────────────────┼────────────────────────┼───────────────┤\n",
              "│ dense (\u001b[38;5;33mDense\u001b[0m)                   │ ?                      │   \u001b[38;5;34m0\u001b[0m (unbuilt) │\n",
              "├─────────────────────────────────┼────────────────────────┼───────────────┤\n",
              "│ dropout_1 (\u001b[38;5;33mDropout\u001b[0m)             │ ?                      │             \u001b[38;5;34m0\u001b[0m │\n",
              "├─────────────────────────────────┼────────────────────────┼───────────────┤\n",
              "│ dense_1 (\u001b[38;5;33mDense\u001b[0m)                 │ ?                      │   \u001b[38;5;34m0\u001b[0m (unbuilt) │\n",
              "└─────────────────────────────────┴────────────────────────┴───────────────┘\n"
            ]
          },
          "metadata": {},
          "output_type": "display_data"
        },
        {
          "data": {
            "text/html": [
              "<pre style=\"white-space:pre;overflow-x:auto;line-height:normal;font-family:Menlo,'DejaVu Sans Mono',consolas,'Courier New',monospace\"><span style=\"font-weight: bold\"> Total params: </span><span style=\"color: #00af00; text-decoration-color: #00af00\">0</span> (0.00 B)\n",
              "</pre>\n"
            ],
            "text/plain": [
              "\u001b[1m Total params: \u001b[0m\u001b[38;5;34m0\u001b[0m (0.00 B)\n"
            ]
          },
          "metadata": {},
          "output_type": "display_data"
        },
        {
          "data": {
            "text/html": [
              "<pre style=\"white-space:pre;overflow-x:auto;line-height:normal;font-family:Menlo,'DejaVu Sans Mono',consolas,'Courier New',monospace\"><span style=\"font-weight: bold\"> Trainable params: </span><span style=\"color: #00af00; text-decoration-color: #00af00\">0</span> (0.00 B)\n",
              "</pre>\n"
            ],
            "text/plain": [
              "\u001b[1m Trainable params: \u001b[0m\u001b[38;5;34m0\u001b[0m (0.00 B)\n"
            ]
          },
          "metadata": {},
          "output_type": "display_data"
        },
        {
          "data": {
            "text/html": [
              "<pre style=\"white-space:pre;overflow-x:auto;line-height:normal;font-family:Menlo,'DejaVu Sans Mono',consolas,'Courier New',monospace\"><span style=\"font-weight: bold\"> Non-trainable params: </span><span style=\"color: #00af00; text-decoration-color: #00af00\">0</span> (0.00 B)\n",
              "</pre>\n"
            ],
            "text/plain": [
              "\u001b[1m Non-trainable params: \u001b[0m\u001b[38;5;34m0\u001b[0m (0.00 B)\n"
            ]
          },
          "metadata": {},
          "output_type": "display_data"
        },
        {
          "name": "stdout",
          "output_type": "stream",
          "text": [
            "------------------------------\n"
          ]
        }
      ],
      "source": [
        "# ===================================================================\n",
        "# BƯỚC 3: XÂY DỰNG MÔ HÌNH KẾT HỢP CNN-LSTM\n",
        "# (Đây là phần thay đổi chính)\n",
        "# ===================================================================\n",
        "print(\"--- [CNN-LSTM] Xây dựng kiến trúc mô hình ---\")\n",
        "model_cnn_lstm = Sequential([\n",
        "    # 1. Lớp Embedding: Biến số nguyên thành vector dày đặc\n",
        "    Embedding(VOCAB_SIZE, EMBEDDING_DIM, input_length=MAX_LENGTH),\n",
        "    Dropout(0.3),\n",
        "\n",
        "    # 2. Lớp Conv1D: Trích xuất các đặc trưng cục bộ (n-grams)\n",
        "    Conv1D(filters=64, kernel_size=5, activation='relu'),\n",
        "\n",
        "    # 3. Lớp MaxPooling1D: Giảm chiều dài chuỗi, giữ lại đặc trưng quan trọng\n",
        "    MaxPooling1D(pool_size=4),\n",
        "\n",
        "    # 4. Lớp LSTM: Học các mối quan hệ tuần tự từ các đặc trưng đã được trích xuất\n",
        "    Bidirectional(LSTM(64, dropout=0.3, recurrent_dropout=0.3)),\n",
        "\n",
        "    # 5. Lớp Dense (Fully Connected) và Output\n",
        "    Dense(64, activation='relu'),\n",
        "    Dropout(0.5),\n",
        "    Dense(3, activation='softmax')\n",
        "])\n",
        "\n",
        "model_cnn_lstm.compile(loss='categorical_crossentropy', optimizer='adam', metrics=['accuracy'])\n",
        "model_cnn_lstm.summary()\n",
        "print(\"-\" * 30)"
      ]
    },
    {
      "cell_type": "code",
      "execution_count": 23,
      "metadata": {
        "colab": {
          "base_uri": "https://localhost:8080/"
        },
        "id": "bdBmwMOCD3ef",
        "outputId": "f79d1dee-68ab-48e0-ed15-495dd8f16444"
      },
      "outputs": [
        {
          "name": "stdout",
          "output_type": "stream",
          "text": [
            "--- [CNN-LSTM] Bắt đầu huấn luyện ---\n",
            "Epoch 1/10\n",
            "2696/2696 - 410s - 152ms/step - accuracy: 0.8121 - loss: 0.5127 - val_accuracy: 0.8594 - val_loss: 0.3955\n",
            "Epoch 2/10\n",
            "2696/2696 - 466s - 173ms/step - accuracy: 0.8750 - loss: 0.3606 - val_accuracy: 0.8924 - val_loss: 0.3147\n",
            "Epoch 3/10\n",
            "2696/2696 - 417s - 155ms/step - accuracy: 0.9012 - loss: 0.2885 - val_accuracy: 0.9124 - val_loss: 0.2674\n",
            "Epoch 4/10\n",
            "2696/2696 - 413s - 153ms/step - accuracy: 0.9160 - loss: 0.2484 - val_accuracy: 0.9258 - val_loss: 0.2329\n",
            "Epoch 5/10\n",
            "2696/2696 - 415s - 154ms/step - accuracy: 0.9247 - loss: 0.2199 - val_accuracy: 0.9344 - val_loss: 0.2164\n",
            "Epoch 6/10\n",
            "2696/2696 - 438s - 162ms/step - accuracy: 0.9339 - loss: 0.1951 - val_accuracy: 0.9362 - val_loss: 0.2028\n",
            "Epoch 7/10\n",
            "2696/2696 - 412s - 153ms/step - accuracy: 0.9395 - loss: 0.1784 - val_accuracy: 0.9446 - val_loss: 0.1929\n",
            "Epoch 8/10\n",
            "2696/2696 - 412s - 153ms/step - accuracy: 0.9447 - loss: 0.1631 - val_accuracy: 0.9463 - val_loss: 0.1953\n",
            "Epoch 9/10\n",
            "2696/2696 - 442s - 164ms/step - accuracy: 0.9474 - loss: 0.1546 - val_accuracy: 0.9492 - val_loss: 0.1884\n",
            "Epoch 10/10\n",
            "2696/2696 - 445s - 165ms/step - accuracy: 0.9507 - loss: 0.1434 - val_accuracy: 0.9524 - val_loss: 0.1848\n",
            "Hoàn thành huấn luyện.\n",
            "------------------------------\n",
            "--- [CNN-LSTM] Đánh giá trên tập Test ---\n",
            "\u001b[1m674/674\u001b[0m \u001b[32m━━━━━━━━━━━━━━━━━━━━\u001b[0m\u001b[37m\u001b[0m \u001b[1m21s\u001b[0m 29ms/step\n",
            "\n",
            "Classification Report (CNN-LSTM):\n",
            "\n",
            "              precision    recall  f1-score   support\n",
            "\n",
            "    Tiêu cực       0.97      0.96      0.96      7187\n",
            "   Trung lập       0.95      0.94      0.95      7187\n",
            "    Tích cực       0.94      0.95      0.95      7188\n",
            "\n",
            "    accuracy                           0.95     21562\n",
            "   macro avg       0.95      0.95      0.95     21562\n",
            "weighted avg       0.95      0.95      0.95     21562\n",
            "\n",
            "Accuracy của CNN-LSTM trên tập Test: 0.9524\n",
            "------------------------------\n"
          ]
        }
      ],
      "source": [
        "# ===================================================================\n",
        "# BƯỚC 4: HUẤN LUYỆN MÔ HÌNH\n",
        "# ===================================================================\n",
        "print(\"--- [CNN-LSTM] Bắt đầu huấn luyện ---\")\n",
        "history_cnn_lstm = model_cnn_lstm.fit(\n",
        "    X_train_pad, y_train_cat,\n",
        "    epochs=NUM_EPOCHS,\n",
        "    batch_size=BATCH_SIZE,\n",
        "    validation_data=(X_test_pad, y_test_cat),\n",
        "    verbose=2\n",
        ")\n",
        "print(\"Hoàn thành huấn luyện.\")\n",
        "print(\"-\" * 30)\n",
        "print(\"--- [CNN-LSTM] Đánh giá trên tập Test ---\")\n",
        "y_pred_prob = model_cnn_lstm.predict(X_test_pad)\n",
        "y_pred = np.argmax(y_pred_prob, axis=1)\n",
        "\n",
        "print(\"\\nClassification Report (CNN-LSTM):\\n\")\n",
        "print(classification_report(y_test, y_pred, target_names=label_map.keys()))\n",
        "accuracy = accuracy_score(y_test, y_pred)\n",
        "print(f\"Accuracy của CNN-LSTM trên tập Test: {accuracy:.4f}\")\n",
        "print(\"-\" * 30)\n",
        "\n",
        "# print(\"--- [CNN-LSTM] Lưu mô hình và tokenizer ---\")\n",
        "# # Hãy đảm bảo thư mục MoHinhPhoBERT tồn tại trên Drive của bạn\n",
        "# model_cnn_lstm.save('/content/drive/MyDrive/MoHinhPhoBERT/cnn_lstm_sentiment_model.h5')\n",
        "# with open('/content/drive/MyDrive/MoHinhPhoBERT/cnn_lstm_tokenizer.pkl', 'wb') as handle:\n",
        "#     pickle.dump(tokenizer, handle, protocol=pickle.HIGHEST_PROTOCOL)\n",
        "# print(\"Đã lưu thành công!\")"
      ]
    },
    {
      "cell_type": "code",
      "execution_count": null,
      "metadata": {
        "id": "tIDsCfZss7jt"
      },
      "outputs": [],
      "source": []
    }
  ],
  "metadata": {
    "colab": {
      "provenance": []
    },
    "kernelspec": {
      "display_name": "Python 3",
      "name": "python3"
    },
    "language_info": {
      "name": "python"
    }
  },
  "nbformat": 4,
  "nbformat_minor": 0
}
